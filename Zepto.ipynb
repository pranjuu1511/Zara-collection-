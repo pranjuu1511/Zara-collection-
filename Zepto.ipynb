{
 "cells": [
  {
   "cell_type": "code",
   "execution_count": 2,
   "id": "82d30874-f215-4e22-845c-246ae8528d96",
   "metadata": {},
   "outputs": [],
   "source": [
    "import pandas as pd"
   ]
  },
  {
   "cell_type": "code",
   "execution_count": 4,
   "id": "4d8a2737-88d4-49fe-9589-af57fcd674e9",
   "metadata": {},
   "outputs": [
    {
     "data": {
      "text/html": [
       "<div>\n",
       "<style scoped>\n",
       "    .dataframe tbody tr th:only-of-type {\n",
       "        vertical-align: middle;\n",
       "    }\n",
       "\n",
       "    .dataframe tbody tr th {\n",
       "        vertical-align: top;\n",
       "    }\n",
       "\n",
       "    .dataframe thead th {\n",
       "        text-align: right;\n",
       "    }\n",
       "</style>\n",
       "<table border=\"1\" class=\"dataframe\">\n",
       "  <thead>\n",
       "    <tr style=\"text-align: right;\">\n",
       "      <th></th>\n",
       "      <th>Customer ID</th>\n",
       "      <th>Platform</th>\n",
       "      <th>Order Date &amp; Time</th>\n",
       "      <th>Delivery Time (Minutes)</th>\n",
       "      <th>Product Category</th>\n",
       "      <th>Order Value (INR)</th>\n",
       "      <th>Customer Feedback</th>\n",
       "      <th>Service Rating</th>\n",
       "      <th>Delivery Delay</th>\n",
       "      <th>Refund Requested</th>\n",
       "    </tr>\n",
       "    <tr>\n",
       "      <th>Order ID</th>\n",
       "      <th></th>\n",
       "      <th></th>\n",
       "      <th></th>\n",
       "      <th></th>\n",
       "      <th></th>\n",
       "      <th></th>\n",
       "      <th></th>\n",
       "      <th></th>\n",
       "      <th></th>\n",
       "      <th></th>\n",
       "    </tr>\n",
       "  </thead>\n",
       "  <tbody>\n",
       "    <tr>\n",
       "      <th>ORD000001</th>\n",
       "      <td>CUST2824</td>\n",
       "      <td>JioMart</td>\n",
       "      <td>19:29.5</td>\n",
       "      <td>30</td>\n",
       "      <td>Fruits &amp; Vegetables</td>\n",
       "      <td>382</td>\n",
       "      <td>Fast delivery, great service!</td>\n",
       "      <td>5</td>\n",
       "      <td>No</td>\n",
       "      <td>No</td>\n",
       "    </tr>\n",
       "    <tr>\n",
       "      <th>ORD000002</th>\n",
       "      <td>CUST1409</td>\n",
       "      <td>Blinkit</td>\n",
       "      <td>54:29.5</td>\n",
       "      <td>16</td>\n",
       "      <td>Dairy</td>\n",
       "      <td>279</td>\n",
       "      <td>Quick and reliable!</td>\n",
       "      <td>5</td>\n",
       "      <td>No</td>\n",
       "      <td>No</td>\n",
       "    </tr>\n",
       "    <tr>\n",
       "      <th>ORD000003</th>\n",
       "      <td>CUST5506</td>\n",
       "      <td>JioMart</td>\n",
       "      <td>21:29.5</td>\n",
       "      <td>25</td>\n",
       "      <td>Beverages</td>\n",
       "      <td>599</td>\n",
       "      <td>Items missing from order.</td>\n",
       "      <td>2</td>\n",
       "      <td>No</td>\n",
       "      <td>Yes</td>\n",
       "    </tr>\n",
       "    <tr>\n",
       "      <th>ORD000004</th>\n",
       "      <td>CUST5012</td>\n",
       "      <td>JioMart</td>\n",
       "      <td>19:29.5</td>\n",
       "      <td>42</td>\n",
       "      <td>Beverages</td>\n",
       "      <td>946</td>\n",
       "      <td>Items missing from order.</td>\n",
       "      <td>2</td>\n",
       "      <td>Yes</td>\n",
       "      <td>Yes</td>\n",
       "    </tr>\n",
       "    <tr>\n",
       "      <th>ORD000005</th>\n",
       "      <td>CUST4657</td>\n",
       "      <td>Blinkit</td>\n",
       "      <td>49:29.5</td>\n",
       "      <td>30</td>\n",
       "      <td>Beverages</td>\n",
       "      <td>334</td>\n",
       "      <td>Fast delivery, great service!</td>\n",
       "      <td>5</td>\n",
       "      <td>No</td>\n",
       "      <td>No</td>\n",
       "    </tr>\n",
       "  </tbody>\n",
       "</table>\n",
       "</div>"
      ],
      "text/plain": [
       "          Customer ID Platform Order Date & Time  Delivery Time (Minutes)  \\\n",
       "Order ID                                                                    \n",
       "ORD000001    CUST2824  JioMart           19:29.5                       30   \n",
       "ORD000002    CUST1409  Blinkit           54:29.5                       16   \n",
       "ORD000003    CUST5506  JioMart           21:29.5                       25   \n",
       "ORD000004    CUST5012  JioMart           19:29.5                       42   \n",
       "ORD000005    CUST4657  Blinkit           49:29.5                       30   \n",
       "\n",
       "              Product Category  Order Value (INR)  \\\n",
       "Order ID                                            \n",
       "ORD000001  Fruits & Vegetables                382   \n",
       "ORD000002                Dairy                279   \n",
       "ORD000003            Beverages                599   \n",
       "ORD000004            Beverages                946   \n",
       "ORD000005            Beverages                334   \n",
       "\n",
       "                       Customer Feedback  Service Rating Delivery Delay  \\\n",
       "Order ID                                                                  \n",
       "ORD000001  Fast delivery, great service!               5             No   \n",
       "ORD000002            Quick and reliable!               5             No   \n",
       "ORD000003      Items missing from order.               2             No   \n",
       "ORD000004      Items missing from order.               2            Yes   \n",
       "ORD000005  Fast delivery, great service!               5             No   \n",
       "\n",
       "          Refund Requested  \n",
       "Order ID                    \n",
       "ORD000001               No  \n",
       "ORD000002               No  \n",
       "ORD000003              Yes  \n",
       "ORD000004              Yes  \n",
       "ORD000005               No  "
      ]
     },
     "execution_count": 4,
     "metadata": {},
     "output_type": "execute_result"
    }
   ],
   "source": [
    "df=pd.read_csv(r\"C:\\Users\\chaud\\Downloads\\archive.zip\",\n",
    "               header=0,index_col=0)\n",
    "df.head()"
   ]
  },
  {
   "cell_type": "code",
   "execution_count": 6,
   "id": "830a5834-6cbd-4cb2-b2a2-0e3696c4f1bd",
   "metadata": {},
   "outputs": [
    {
     "data": {
      "text/plain": [
       "Platform\n",
       "Blinkit             29.474898\n",
       "Swiggy Instamart    29.499925\n",
       "JioMart             29.634498\n",
       "Name: Delivery Time (Minutes), dtype: float64"
      ]
     },
     "execution_count": 6,
     "metadata": {},
     "output_type": "execute_result"
    }
   ],
   "source": [
    "df.groupby('Platform')['Delivery Time (Minutes)'].mean().sort_values()"
   ]
  },
  {
   "cell_type": "code",
   "execution_count": 8,
   "id": "a6e0d31f-2fd2-4882-9aa5-5ab183e63da7",
   "metadata": {},
   "outputs": [
    {
     "data": {
      "text/plain": [
       "<Axes: title={'center': 'Service Rating Distribution'}, xlabel='Service Rating'>"
      ]
     },
     "execution_count": 8,
     "metadata": {},
     "output_type": "execute_result"
    },
    {
     "data": {
      "image/png": "[encoded data removed]",
      "text/plain": [
       "<Figure size 640x480 with 1 Axes>"
      ]
     },
     "metadata": {},
     "output_type": "display_data"
    }
   ],
   "source": [
    "df['Service Rating'].value_counts().plot(kind='bar', title='Service Rating Distribution')"
   ]
  },
  {
   "cell_type": "code",
   "execution_count": 9,
   "id": "6c254de4-89c4-4ae1-bce0-a4f2e911ab22",
   "metadata": {},
   "outputs": [
    {
     "data": {
      "text/plain": [
       "Product Category\n",
       "Personal Care          1052.174499\n",
       "Grocery                 848.064468\n",
       "Beverages               549.508285\n",
       "Dairy                   451.475470\n",
       "Fruits & Vegetables     375.572210\n",
       "Snacks                  273.335887\n",
       "Name: Order Value (INR), dtype: float64"
      ]
     },
     "execution_count": 9,
     "metadata": {},
     "output_type": "execute_result"
    }
   ],
   "source": [
    "df.groupby('Product Category')['Order Value (INR)'].mean().sort_values(ascending=False)"
   ]
  },
  {
   "cell_type": "code",
   "execution_count": 10,
   "id": "1628a2fc-8470-4e1a-a900-b951299b27bb",
   "metadata": {},
   "outputs": [
    {
     "data": {
      "text/plain": [
       "Platform          Product Category   \n",
       "Blinkit           Beverages              2547\n",
       "                  Dairy                  2606\n",
       "                  Fruits & Vegetables    2624\n",
       "                  Grocery                2597\n",
       "                  Personal Care          2478\n",
       "                  Snacks                 2501\n",
       "JioMart           Beverages              2496\n",
       "                  Dairy                  2526\n",
       "                  Fruits & Vegetables    2514\n",
       "                  Grocery                2623\n",
       "                  Personal Care          2506\n",
       "                  Snacks                 2513\n",
       "Swiggy Instamart  Beverages              2506\n",
       "                  Dairy                  2559\n",
       "                  Fruits & Vegetables    2554\n",
       "                  Grocery                2591\n",
       "                  Personal Care          2533\n",
       "                  Snacks                 2545\n",
       "dtype: int64"
      ]
     },
     "execution_count": 10,
     "metadata": {},
     "output_type": "execute_result"
    }
   ],
   "source": [
    "df[df['Service Rating'] <= 2].groupby(['Platform', 'Product Category']).size()"
   ]
  },
  {
   "cell_type": "code",
   "execution_count": 11,
   "id": "ffc2432a-db3d-46e8-a606-71197a5a161d",
   "metadata": {},
   "outputs": [
    {
     "data": {
      "text/plain": [
       "9000"
      ]
     },
     "execution_count": 11,
     "metadata": {},
     "output_type": "execute_result"
    }
   ],
   "source": [
    "df['Customer ID'].nunique()"
   ]
  },
  {
   "cell_type": "code",
   "execution_count": 12,
   "id": "3ca44ab8-8981-4d74-a780-6bd0bb581249",
   "metadata": {},
   "outputs": [
    {
     "data": {
      "text/plain": [
       "Product Category\n",
       "Snacks                 29.448668\n",
       "Beverages              29.503568\n",
       "Fruits & Vegetables    29.551467\n",
       "Dairy                  29.560657\n",
       "Personal Care          29.571584\n",
       "Grocery                29.580689\n",
       "Name: Delivery Time (Minutes), dtype: float64"
      ]
     },
     "execution_count": 12,
     "metadata": {},
     "output_type": "execute_result"
    }
   ],
   "source": [
    "df.groupby('Product Category')['Delivery Time (Minutes)'].mean().sort_values()"
   ]
  },
  {
   "cell_type": "code",
   "execution_count": 13,
   "id": "19bca668-4131-4745-aa08-b5c62d7e9c34",
   "metadata": {},
   "outputs": [
    {
     "data": {
      "text/plain": [
       "Order ID\n",
       "ORD000003                     Items missing from order.\n",
       "ORD000004                     Items missing from order.\n",
       "ORD000006                     Items missing from order.\n",
       "ORD000008    Horrible experience, never ordering again.\n",
       "ORD000010                Very late delivery, not happy.\n",
       "                                ...                    \n",
       "ORD099987                      Not fresh, disappointed.\n",
       "ORD099988                     Items missing from order.\n",
       "ORD099989                     Delivery person was rude.\n",
       "ORD099990                      Not fresh, disappointed.\n",
       "ORD099993                     Delivery person was rude.\n",
       "Name: Customer Feedback, Length: 45819, dtype: object"
      ]
     },
     "execution_count": 13,
     "metadata": {},
     "output_type": "execute_result"
    }
   ],
   "source": [
    "df[df['Service Rating'] <= 2]['Customer Feedback']"
   ]
  },
  {
   "cell_type": "code",
   "execution_count": 14,
   "id": "6b7cef7f-508d-4038-9b78-01967631e328",
   "metadata": {},
   "outputs": [
    {
     "data": {
      "text/html": [
       "<div>\n",
       "<style scoped>\n",
       "    .dataframe tbody tr th:only-of-type {\n",
       "        vertical-align: middle;\n",
       "    }\n",
       "\n",
       "    .dataframe tbody tr th {\n",
       "        vertical-align: top;\n",
       "    }\n",
       "\n",
       "    .dataframe thead th {\n",
       "        text-align: right;\n",
       "    }\n",
       "</style>\n",
       "<table border=\"1\" class=\"dataframe\">\n",
       "  <thead>\n",
       "    <tr style=\"text-align: right;\">\n",
       "      <th></th>\n",
       "      <th>Delivery Time (Minutes)</th>\n",
       "      <th>Service Rating</th>\n",
       "    </tr>\n",
       "  </thead>\n",
       "  <tbody>\n",
       "    <tr>\n",
       "      <th>Delivery Time (Minutes)</th>\n",
       "      <td>1.000000</td>\n",
       "      <td>0.000136</td>\n",
       "    </tr>\n",
       "    <tr>\n",
       "      <th>Service Rating</th>\n",
       "      <td>0.000136</td>\n",
       "      <td>1.000000</td>\n",
       "    </tr>\n",
       "  </tbody>\n",
       "</table>\n",
       "</div>"
      ],
      "text/plain": [
       "                         Delivery Time (Minutes)  Service Rating\n",
       "Delivery Time (Minutes)                 1.000000        0.000136\n",
       "Service Rating                          0.000136        1.000000"
      ]
     },
     "execution_count": 14,
     "metadata": {},
     "output_type": "execute_result"
    }
   ],
   "source": [
    "df[['Delivery Time (Minutes)', 'Service Rating']].corr()"
   ]
  },
  {
   "cell_type": "code",
   "execution_count": 15,
   "id": "004a18b9-e85f-4a2e-9dc1-e674d736f29c",
   "metadata": {},
   "outputs": [
    {
     "data": {
      "text/plain": [
       "Platform\n",
       "Swiggy Instamart    19831984\n",
       "Blinkit             19705084\n",
       "JioMart             19562372\n",
       "Name: Order Value (INR), dtype: int64"
      ]
     },
     "execution_count": 15,
     "metadata": {},
     "output_type": "execute_result"
    }
   ],
   "source": [
    "df.groupby('Platform')['Order Value (INR)'].sum().sort_values(ascending=False)"
   ]
  },
  {
   "cell_type": "code",
   "execution_count": 16,
   "id": "ce2d5b94-173f-4849-bb09-526ec7bd9f88",
   "metadata": {},
   "outputs": [
    {
     "data": {
      "text/plain": [
       "Platform\n",
       "JioMart             3.245147\n",
       "Swiggy Instamart    3.243415\n",
       "Blinkit             3.233844\n",
       "Name: Service Rating, dtype: float64"
      ]
     },
     "execution_count": 16,
     "metadata": {},
     "output_type": "execute_result"
    }
   ],
   "source": [
    "df.groupby('Platform')['Service Rating'].mean().sort_values(ascending=False)"
   ]
  },
  {
   "cell_type": "code",
   "execution_count": null,
   "id": "51d1f6e7-485b-49b7-9dc2-0df52c8ef6b9",
   "metadata": {},
   "outputs": [],
   "source": []
  }
 ],
 "metadata": {
  "kernelspec": {
   "display_name": "Python 3 (ipykernel)",
   "language": "python",
   "name": "python3"
  },
  "language_info": {
   "codemirror_mode": {
    "name": "ipython",
    "version": 3
   },
   "file_extension": ".py",
   "mimetype": "text/x-python",
   "name": "python",
   "nbconvert_exporter": "python",
   "pygments_lexer": "ipython3",
   "version": "3.13.5"
  }
 },
 "nbformat": 4,
 "nbformat_minor": 5
}
